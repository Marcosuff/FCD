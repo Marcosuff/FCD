{
 "cells": [
  {
   "cell_type": "markdown",
   "metadata": {},
   "source": [
    "\n",
    "# Imports"
   ]
  },
  {
   "cell_type": "code",
   "execution_count": 1,
   "metadata": {},
   "outputs": [
    {
     "name": "stderr",
     "output_type": "stream",
     "text": [
      "/system/apps/biosoft/python-361/lib/python3.6/site-packages/h5py/__init__.py:36: FutureWarning: Conversion of the second argument of issubdtype from `float` to `np.floating` is deprecated. In future, it will be treated as `np.float64 == np.dtype(float).type`.\n",
      "  from ._conv import register_converters as _register_converters\n",
      "Using TensorFlow backend.\n"
     ]
    }
   ],
   "source": [
    "import numpy as np\n",
    "import pandas as pd\n",
    "import warnings\n",
    "import pickle\n",
    "\n",
    "import keras\n",
    "import keras.backend as K\n",
    "from keras.models import load_model"
   ]
  },
  {
   "cell_type": "markdown",
   "metadata": {},
   "source": [
    "# Load generated molecules"
   ]
  },
  {
   "cell_type": "code",
   "execution_count": 2,
   "metadata": {},
   "outputs": [
    {
     "name": "stderr",
     "output_type": "stream",
     "text": [
      "/system/apps/biosoft/python-361/lib/python3.6/site-packages/ipykernel_launcher.py:4: UserWarning: Too many generated samples. FCD is calculated for 50,000 randomly drawn generated samples.\n",
      "  after removing the cwd from sys.path.\n"
     ]
    }
   ],
   "source": [
    "gen_mol_file = \"LSTM-generated_molecules.smiles\" #input file which contains one generated SMILES per line\n",
    "gen_mol = pd.read_csv(gen_mol_file,header=None)[0].values\n",
    "if gen_mol.shape[0]>50000:\n",
    "    warnings.warn('Too many generated samples. FCD is calculated for 50,000 randomly drawn generated samples.')\n",
    "    gen_mol = np.random.choice(gen_mol, 50000, replace=False)"
   ]
  },
  {
   "cell_type": "markdown",
   "metadata": {},
   "source": [
    "# Load input data & set parameters"
   ]
  },
  {
   "cell_type": "code",
   "execution_count": 3,
   "metadata": {},
   "outputs": [],
   "source": [
    "model_file = \"/publicwork/klambaue/LSTMdescriptors/models2/model_FCD.h5\" #chembl network \n",
    "chembl_net_act = pickle.load(open(\"chembl_activations.p\", 'rb')) #activations of random 50,000 chembl molecules, which were not used for training\n",
    "batch_size = 128 #batch size for generating activations of generated SMILES"
   ]
  },
  {
   "cell_type": "markdown",
   "metadata": {
    "collapsed": true
   },
   "source": [
    "## Auxiliary functions"
   ]
  },
  {
   "cell_type": "code",
   "execution_count": 5,
   "metadata": {},
   "outputs": [],
   "source": [
    "exec(open('aux.py').read()) #frechet distance, keras loss functions, data_generator"
   ]
  },
  {
   "cell_type": "markdown",
   "metadata": {
    "collapsed": true
   },
   "source": [
    "# Calculation activations for generated molecules\n"
   ]
  },
  {
   "cell_type": "code",
   "execution_count": null,
   "metadata": {},
   "outputs": [],
   "source": [
    "masked_loss_function = build_masked_loss(K.binary_crossentropy,0.5)\n",
    "model = load_model(model_file, \n",
    "           custom_objects={'masked_loss_function': masked_loss_function,'masked_accuracy':masked_accuracy})\n",
    "model.pop()\n",
    "model.pop()\n",
    "\n",
    "gen_mol_act = model.predict_generator(myGenerator_predict(gen_mol, one_hot=one_hot, batch_size=batch_size),\n",
    "                                      steps= np.ceil(gen_mol.shape[0]/batch_size))"
   ]
  },
  {
   "cell_type": "markdown",
   "metadata": {},
   "source": [
    "# Calculation of Frechet ChEMBL Distance (FCD)"
   ]
  },
  {
   "cell_type": "code",
   "execution_count": null,
   "metadata": {},
   "outputs": [],
   "source": [
    "FCD = calculate_frechet_distance(mu1=np.mean(gen_mol_act,axis=0), mu2=np.mean(chembl_net_act,axis=0), \n",
    "                                 sigma1=np.cov(gen_mol_act.T, bias=True), sigma2=np.cov(chembl_net_act.T, bias=True))\n",
    "FCD"
   ]
  },
  {
   "cell_type": "code",
   "execution_count": null,
   "metadata": {},
   "outputs": [],
   "source": []
  },
  {
   "cell_type": "code",
   "execution_count": null,
   "metadata": {},
   "outputs": [],
   "source": []
  },
  {
   "cell_type": "code",
   "execution_count": null,
   "metadata": {},
   "outputs": [],
   "source": []
  },
  {
   "cell_type": "code",
   "execution_count": null,
   "metadata": {},
   "outputs": [],
   "source": []
  },
  {
   "cell_type": "code",
   "execution_count": null,
   "metadata": {},
   "outputs": [],
   "source": []
  },
  {
   "cell_type": "code",
   "execution_count": null,
   "metadata": {},
   "outputs": [],
   "source": []
  }
 ],
 "metadata": {
  "kernelspec": {
   "display_name": "Python 3",
   "language": "python",
   "name": "python3"
  },
  "language_info": {
   "codemirror_mode": {
    "name": "ipython",
    "version": 3
   },
   "file_extension": ".py",
   "mimetype": "text/x-python",
   "name": "python",
   "nbconvert_exporter": "python",
   "pygments_lexer": "ipython3",
   "version": "3.6.1"
  }
 },
 "nbformat": 4,
 "nbformat_minor": 1
}
