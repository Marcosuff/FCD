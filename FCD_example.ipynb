{
 "cells": [
  {
   "cell_type": "code",
   "execution_count": 1,
   "metadata": {},
   "outputs": [],
   "source": [
    "import numpy as np\n",
    "import pandas as pd\n",
    "import pickle\n",
    "import os\n",
    "\n",
    "os.environ[\"CUDA_VISIBLE_DEVICES\"]= '1' #set gpu "
   ]
  },
  {
   "cell_type": "markdown",
   "metadata": {},
   "source": [
    "### Load Data and Functions"
   ]
  },
  {
   "cell_type": "code",
   "execution_count": null,
   "metadata": {},
   "outputs": [
    {
     "name": "stderr",
     "output_type": "stream",
     "text": [
      "Using TensorFlow backend.\n"
     ]
    }
   ],
   "source": [
    "#Load Auxiliary functions\n",
    "exec(open('FCD.py').read()) #frechet distance, keras loss functions, data_generator, CHEMBLNET\n",
    "\n",
    "# Load generated molecules\n",
    "gen_mol_file = \"generated_smiles/LSTM_Segler.smi\" #input file which contains one generated SMILES per line\n",
    "gen_mol = pd.read_csv(gen_mol_file,header=None)[0] #take at least 10000 molecules \n",
    "sample = np.random.choice(gen_mol, 10000, replace=False)\n",
    "sample_std = canoncial_smiles(sample)\n",
    "\n",
    "# Load ChEMNet and reference stats\n",
    "mu_ref, cov_ref = pickle.load(open(\"ref_combined_stat.p\", 'rb')).values() #statistics of random 50,000 chembl molecules, which were not used for training\n",
    "model = load_ref_model('ChemNet_v0.13_pretrained.h5')"
   ]
  },
  {
   "cell_type": "markdown",
   "metadata": {
    "collapsed": true
   },
   "source": [
    "## Calculation of Frechet CHEMBLNET DISTANCE"
   ]
  },
  {
   "cell_type": "code",
   "execution_count": null,
   "metadata": {},
   "outputs": [],
   "source": [
    "#get CHEBMLNET activations of generated molecules \n",
    "gen_mol_act = get_predictions(model, sample_std)\n",
    "FCD = calculate_frechet_distance(mu1=np.mean(gen_mol_act, axis=0), mu2=mu_ref, \n",
    "                                 sigma1=np.cov(gen_mol_act.T), sigma2=cov_ref)\n",
    "FCD"
   ]
  },
  {
   "cell_type": "code",
   "execution_count": null,
   "metadata": {},
   "outputs": [],
   "source": []
  },
  {
   "cell_type": "code",
   "execution_count": null,
   "metadata": {},
   "outputs": [],
   "source": []
  }
 ],
 "metadata": {
  "kernelspec": {
   "display_name": "Python 3",
   "language": "python",
   "name": "python3"
  },
  "language_info": {
   "codemirror_mode": {
    "name": "ipython",
    "version": 3
   },
   "file_extension": ".py",
   "mimetype": "text/x-python",
   "name": "python",
   "nbconvert_exporter": "python",
   "pygments_lexer": "ipython3",
   "version": "3.6.1"
  }
 },
 "nbformat": 4,
 "nbformat_minor": 1
}
