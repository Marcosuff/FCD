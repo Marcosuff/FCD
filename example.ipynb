{
 "cells": [
  {
   "cell_type": "code",
   "execution_count": 13,
   "metadata": {
    "ExecuteTime": {
     "end_time": "2020-04-23T09:11:07.345354Z",
     "start_time": "2020-04-23T09:11:07.321510Z"
    }
   },
   "outputs": [
    {
     "name": "stdout",
     "output_type": "stream",
     "text": [
      "The autoreload extension is already loaded. To reload it, use:\n",
      "  %reload_ext autoreload\n"
     ]
    }
   ],
   "source": [
    "%load_ext autoreload\n",
    "%autoreload 2\n",
    "import numpy as np\n",
    "import pandas as pd\n",
    "import pickle\n",
    "import os\n",
    "import fcd\n",
    "from fcd import get_fcd, load_ref_model,canonical_smiles, get_predictions, calculate_frechet_distance\n",
    "np.random.seed(0)\n",
    "\n",
    "os.environ[\"CUDA_VISIBLE_DEVICES\"]= '0' #set gpu "
   ]
  },
  {
   "cell_type": "code",
   "execution_count": 14,
   "metadata": {
    "ExecuteTime": {
     "end_time": "2020-04-23T09:11:09.581331Z",
     "start_time": "2020-04-23T09:11:09.561260Z"
    }
   },
   "outputs": [],
   "source": [
    "model = load_ref_model()"
   ]
  },
  {
   "cell_type": "markdown",
   "metadata": {},
   "source": [
    "### Load and prepare data\n",
    "Take care when preparing data.\n",
    "- Different canonicalizations change the FCD. rdkit canonicalization should be used.\n",
    "- In case the generated \"molecules\" contain invalid SMILES, decide if you want to include them in the FCD.\n",
    "- Make sure that you respect sample sizes as the FCD varies with size."
   ]
  },
  {
   "cell_type": "code",
   "execution_count": 15,
   "metadata": {
    "ExecuteTime": {
     "end_time": "2020-04-23T09:11:14.733206Z",
     "start_time": "2020-04-23T09:11:11.657743Z"
    }
   },
   "outputs": [
    {
     "name": "stderr",
     "output_type": "stream",
     "text": [
      "RDKit ERROR: [11:11:12] Explicit valence for atom # 16 N, 4, is greater than permitted\n",
      "RDKit ERROR: [11:11:12] Explicit valence for atom # 12 N, 5, is greater than permitted\n",
      "RDKit ERROR: [11:11:12] Explicit valence for atom # 14 N, 4, is greater than permitted\n",
      "RDKit ERROR: [11:11:12] Explicit valence for atom # 9 N, 5, is greater than permitted\n",
      "RDKit ERROR: [11:11:12] Explicit valence for atom # 15 N, 4, is greater than permitted\n",
      "RDKit ERROR: [11:11:12] Explicit valence for atom # 6 N, 5, is greater than permitted\n",
      "RDKit ERROR: [11:11:12] Explicit valence for atom # 2 N, 4, is greater than permitted\n",
      "RDKit ERROR: [11:11:12] Explicit valence for atom # 5 N, 4, is greater than permitted\n",
      "RDKit ERROR: [11:11:12] Explicit valence for atom # 10 N, 5, is greater than permitted\n",
      "RDKit ERROR: [11:11:12] Explicit valence for atom # 13 N, 4, is greater than permitted\n",
      "RDKit ERROR: [11:11:12] Explicit valence for atom # 7 N, 4, is greater than permitted\n",
      "RDKit ERROR: [11:11:12] Explicit valence for atom # 10 N, 4, is greater than permitted\n",
      "RDKit ERROR: [11:11:12] Explicit valence for atom # 28 N, 4, is greater than permitted\n",
      "RDKit ERROR: [11:11:12] Explicit valence for atom # 4 N, 4, is greater than permitted\n",
      "RDKit ERROR: [11:11:12] Explicit valence for atom # 3 N, 4, is greater than permitted\n",
      "RDKit ERROR: [11:11:12] Explicit valence for atom # 32 N, 4, is greater than permitted\n",
      "RDKit ERROR: [11:11:12] Explicit valence for atom # 24 N, 4, is greater than permitted\n",
      "RDKit ERROR: [11:11:13] Explicit valence for atom # 12 N, 4, is greater than permitted\n",
      "RDKit ERROR: [11:11:13] Explicit valence for atom # 19 N, 4, is greater than permitted\n",
      "RDKit ERROR: [11:11:14] Explicit valence for atom # 6 N, 4, is greater than permitted\n",
      "RDKit ERROR: [11:11:14] Explicit valence for atom # 9 N, 4, is greater than permitted\n",
      "RDKit ERROR: [11:11:14] Explicit valence for atom # 19 N, 5, is greater than permitted\n",
      "RDKit ERROR: [11:11:14] Explicit valence for atom # 14 N, 4, is greater than permitted\n",
      "RDKit ERROR: [11:11:14] Explicit valence for atom # 14 N, 4, is greater than permitted\n",
      "RDKit ERROR: [11:11:14] Explicit valence for atom # 15 N, 4, is greater than permitted\n",
      "RDKit ERROR: [11:11:14] Explicit valence for atom # 27 N, 4, is greater than permitted\n",
      "RDKit ERROR: [11:11:14] Explicit valence for atom # 9 N, 4, is greater than permitted\n",
      "RDKit ERROR: [11:11:14] Explicit valence for atom # 16 N, 4, is greater than permitted\n",
      "RDKit ERROR: [11:11:14] Explicit valence for atom # 15 N, 5, is greater than permitted\n",
      "RDKit ERROR: [11:11:14] Explicit valence for atom # 22 N, 4, is greater than permitted\n",
      "RDKit ERROR: [11:11:14] Explicit valence for atom # 6 N, 4, is greater than permitted\n",
      "RDKit ERROR: [11:11:14] Explicit valence for atom # 4 N, 4, is greater than permitted\n",
      "RDKit ERROR: [11:11:14] Explicit valence for atom # 22 N, 4, is greater than permitted\n",
      "RDKit ERROR: [11:11:14] Explicit valence for atom # 24 N, 4, is greater than permitted\n"
     ]
    }
   ],
   "source": [
    "# Load generated molecules\n",
    "gen_mol_file = \"generated_smiles/LSTM_Segler.smi\" #input file which contains one generated SMILES per line\n",
    "gen_mol = pd.read_csv(gen_mol_file,header=None)[0] #IMPORTANT: take at least 10000 molecules as FCD can vary with sample size \n",
    "sample1 = np.random.choice(gen_mol, 10000, replace=False)\n",
    "sample2 = np.random.choice(gen_mol, 10000, replace=False)\n",
    "\n",
    "# get canonical smiles and filter invalid ones\n",
    "can_sample1 = [w for w in canonical_smiles(sample1) if w is not None]\n",
    "can_sample2 = [w for w in canonical_smiles(sample2) if w is not None]"
   ]
  },
  {
   "cell_type": "markdown",
   "metadata": {
    "collapsed": true
   },
   "source": [
    "## Calculation of FCD"
   ]
  },
  {
   "cell_type": "code",
   "execution_count": 16,
   "metadata": {
    "ExecuteTime": {
     "end_time": "2020-04-23T09:11:27.207953Z",
     "start_time": "2020-04-23T09:11:16.921374Z"
    }
   },
   "outputs": [
    {
     "name": "stdout",
     "output_type": "stream",
     "text": [
      "FCD:  0.3338613001233881\n"
     ]
    }
   ],
   "source": [
    "#get CHEBMLNET activations of generated molecules \n",
    "act1 = get_predictions(model, can_sample1)\n",
    "act2 = get_predictions(model, can_sample2)\n",
    "\n",
    "mu1 = np.mean(act1, axis=0)\n",
    "sigma1 = np.cov(act1.T)\n",
    "\n",
    "mu2 = np.mean(act2, axis=0)\n",
    "sigma2 = np.cov(act2.T)\n",
    "\n",
    "fcd_score = calculate_frechet_distance(\n",
    "    mu1=mu1,\n",
    "    mu2=mu2, \n",
    "    sigma1=sigma1,\n",
    "    sigma2=sigma2)\n",
    "\n",
    "print('FCD: ',fcd_score)"
   ]
  },
  {
   "cell_type": "code",
   "execution_count": 17,
   "metadata": {
    "ExecuteTime": {
     "end_time": "2020-04-23T09:11:38.873496Z",
     "start_time": "2020-04-23T09:11:28.449608Z"
    }
   },
   "outputs": [
    {
     "name": "stdout",
     "output_type": "stream",
     "text": [
      "FCD:  0.3338613001233881\n"
     ]
    }
   ],
   "source": [
    "\"\"\"if you don't need to store the activations you can also take a shortcut.\"\"\"\n",
    "fcd_score = get_fcd(model, can_sample1, can_sample2)\n",
    "\n",
    "print('FCD: ',fcd_score)"
   ]
  },
  {
   "cell_type": "code",
   "execution_count": 18,
   "metadata": {
    "ExecuteTime": {
     "end_time": "2020-04-23T09:11:49.760022Z",
     "start_time": "2020-04-23T09:11:38.874694Z"
    }
   },
   "outputs": [
    {
     "name": "stdout",
     "output_type": "stream",
     "text": [
      "FCD:  25.63927611890624\n"
     ]
    }
   ],
   "source": [
    "\"\"\"This is what happens if you do not canonicalize the smiles\"\"\"\n",
    "fcd_score = get_fcd(model, can_sample1, sample2)\n",
    "\n",
    "print('FCD: ',fcd_score)"
   ]
  }
 ],
 "metadata": {
  "kernelspec": {
   "display_name": "Python 3",
   "language": "python",
   "name": "python3"
  },
  "language_info": {
   "codemirror_mode": {
    "name": "ipython",
    "version": 3
   },
   "file_extension": ".py",
   "mimetype": "text/x-python",
   "name": "python",
   "nbconvert_exporter": "python",
   "pygments_lexer": "ipython3",
   "version": "3.7.4"
  }
 },
 "nbformat": 4,
 "nbformat_minor": 1
}
